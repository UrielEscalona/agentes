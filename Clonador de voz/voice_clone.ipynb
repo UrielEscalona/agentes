{
 "cells": [
  {
   "cell_type": "markdown",
   "id": "8e323eca",
   "metadata": {},
   "source": [
    "# Sistema para grabar audios cortos"
   ]
  },
  {
   "cell_type": "code",
   "execution_count": null,
   "id": "d3eb7f2b",
   "metadata": {},
   "outputs": [
    {
     "name": "stdout",
     "output_type": "stream",
     "text": [
      "🎤 ¡Preparado para grabar!\n",
      "Empieza a hablar después de este mensaje...\n",
      "✅ Grabación terminada y guardada como: ./voice_cloner/uriel.wav\n"
     ]
    }
   ],
   "source": [
    "import sounddevice as sd\n",
    "from scipy.io.wavfile import write\n",
    "\n",
    "# Configuración de grabación\n",
    "duracion_segundos = 6  # Puedes cambiarlo si quieres más tiempo\n",
    "frecuencia_muestreo = 16000  # Frecuencia estándar para XTTS (16 kHz)\n",
    "\n",
    "print(\"🎤 ¡Preparado para grabar!\")\n",
    "print(\"Empieza a hablar después de este mensaje...\")\n",
    "\n",
    "# Grabar audio\n",
    "grabacion = sd.rec(int(duracion_segundos * frecuencia_muestreo), samplerate=frecuencia_muestreo, channels=1, dtype='int16')\n",
    "sd.wait()  # Esperar a que termine\n",
    "\n",
    "# Guardar el archivo\n",
    "ruta_guardado = \"./voice_cloner/voz_a_clonar.wav\"\n",
    "write(ruta_guardado, frecuencia_muestreo, grabacion)\n",
    "\n",
    "print(f\"✅ Grabación terminada y guardada como: {ruta_guardado}\")"
   ]
  },
  {
   "cell_type": "markdown",
   "id": "95c76a3f",
   "metadata": {},
   "source": [
    "# Clonar la voz"
   ]
  },
  {
   "cell_type": "code",
   "execution_count": null,
   "id": "93bdd700",
   "metadata": {},
   "outputs": [
    {
     "name": "stderr",
     "output_type": "stream",
     "text": [
      "c:\\Users\\Uriel\\anaconda3\\envs\\xtts_env\\lib\\site-packages\\TTS\\api.py:70: UserWarning: `gpu` will be deprecated. Please use `tts.to(device)` instead.\n",
      "  warnings.warn(\"`gpu` will be deprecated. Please use `tts.to(device)` instead.\")\n"
     ]
    },
    {
     "name": "stdout",
     "output_type": "stream",
     "text": [
      " > tts_models/multilingual/multi-dataset/xtts_v2 is already downloaded.\n"
     ]
    },
    {
     "name": "stderr",
     "output_type": "stream",
     "text": [
      "c:\\Users\\Uriel\\anaconda3\\envs\\xtts_env\\lib\\site-packages\\tqdm\\auto.py:21: TqdmWarning: IProgress not found. Please update jupyter and ipywidgets. See https://ipywidgets.readthedocs.io/en/stable/user_install.html\n",
      "  from .autonotebook import tqdm as notebook_tqdm\n"
     ]
    },
    {
     "name": "stdout",
     "output_type": "stream",
     "text": [
      " > Using model: xtts\n"
     ]
    },
    {
     "name": "stderr",
     "output_type": "stream",
     "text": [
      "c:\\Users\\Uriel\\anaconda3\\envs\\xtts_env\\lib\\site-packages\\TTS\\tts\\layers\\xtts\\xtts_manager.py:5: FutureWarning: You are using `torch.load` with `weights_only=False` (the current default value), which uses the default pickle module implicitly. It is possible to construct malicious pickle data which will execute arbitrary code during unpickling (See https://github.com/pytorch/pytorch/blob/main/SECURITY.md#untrusted-models for more details). In a future release, the default value for `weights_only` will be flipped to `True`. This limits the functions that could be executed during unpickling. Arbitrary objects will no longer be allowed to be loaded via this mode unless they are explicitly allowlisted by the user via `torch.serialization.add_safe_globals`. We recommend you start setting `weights_only=True` for any use case where you don't have full control of the loaded file. Please open an issue on GitHub for any issues related to this experimental feature.\n",
      "  self.speakers = torch.load(speaker_file_path)\n",
      "c:\\Users\\Uriel\\anaconda3\\envs\\xtts_env\\lib\\site-packages\\TTS\\utils\\io.py:54: FutureWarning: You are using `torch.load` with `weights_only=False` (the current default value), which uses the default pickle module implicitly. It is possible to construct malicious pickle data which will execute arbitrary code during unpickling (See https://github.com/pytorch/pytorch/blob/main/SECURITY.md#untrusted-models for more details). In a future release, the default value for `weights_only` will be flipped to `True`. This limits the functions that could be executed during unpickling. Arbitrary objects will no longer be allowed to be loaded via this mode unless they are explicitly allowlisted by the user via `torch.serialization.add_safe_globals`. We recommend you start setting `weights_only=True` for any use case where you don't have full control of the loaded file. Please open an issue on GitHub for any issues related to this experimental feature.\n",
      "  return torch.load(f, map_location=map_location, **kwargs)\n",
      "GPT2InferenceModel has generative capabilities, as `prepare_inputs_for_generation` is explicitly overwritten. However, it doesn't directly inherit from `GenerationMixin`. From 👉v4.50👈 onwards, `PreTrainedModel` will NOT inherit from `GenerationMixin`, and this model will lose the ability to call `generate` and other related functions.\n",
      "  - If you're using `trust_remote_code=True`, you can get rid of this warning by loading the model with an auto class. See https://huggingface.co/docs/transformers/en/model_doc/auto#auto-classes\n",
      "  - If you are the owner of the model architecture code, please modify your model class such that it inherits from `GenerationMixin` (after `PreTrainedModel`, otherwise you'll get an exception).\n",
      "  - If you are not the owner of the model architecture class, please contact the model code owner to update it.\n"
     ]
    },
    {
     "name": "stdout",
     "output_type": "stream",
     "text": [
      " > Text splitted to sentences.\n",
      "['Bienvenidos al mejor curso de agentes inteligentes de la historia.']\n"
     ]
    },
    {
     "name": "stderr",
     "output_type": "stream",
     "text": [
      "The attention mask is not set and cannot be inferred from input because pad token is same as eos token. As a consequence, you may observe unexpected behavior. Please pass your input's `attention_mask` to obtain reliable results.\n"
     ]
    },
    {
     "name": "stdout",
     "output_type": "stream",
     "text": [
      " > Processing time: 3.263223648071289\n",
      " > Real-time factor: 0.5435912111686505\n",
      "✅ Audio generado exitosamente en: ./voice_cloner/output1.wav\n"
     ]
    }
   ],
   "source": [
    "from TTS.api import TTS\n",
    "import os\n",
    "\n",
    "# ======================================\n",
    "# 3. Configurar rutas\n",
    "# ======================================\n",
    "\n",
    "# Define el texto que quieres sintetizar\n",
    "texto_a_sintetizar = \"Bienvenidos al mejor curso de agentes inteligentes de la historia.\"\n",
    "\n",
    "# Ruta al archivo de audio .wav que quieres usar como referencia de voz\n",
    "ruta_audio_referencia = \"./voice_cloner/voz_a_clonar.wav\"  # <-- Cambia esto\n",
    "\n",
    "# Ruta donde se guardará el audio generado\n",
    "ruta_audio_salida = \"./voice_cloner/voz_clonada.wav\"\n",
    "\n",
    "# Idioma que quieres usar (puede ser \"es\" para español, \"en\" para inglés, etc.)\n",
    "idioma = \"es\"\n",
    "\n",
    "# ======================================\n",
    "# 4. Cargar modelo\n",
    "# ======================================\n",
    "\n",
    "# Cargar el modelo preentrenado de Hugging Face\n",
    "tts = TTS(\"tts_models/multilingual/multi-dataset/xtts_v2\", gpu=True)\n",
    "\n",
    "# ======================================\n",
    "# 5. Generar la voz clonada\n",
    "# ======================================\n",
    "\n",
    "# Generar el archivo de audio\n",
    "tts.tts_to_file(\n",
    "    text=texto_a_sintetizar,\n",
    "    speaker_wav=ruta_audio_referencia,\n",
    "    language=idioma,\n",
    "    file_path=ruta_audio_salida\n",
    ")\n",
    "\n",
    "print(f\"✅ Audio generado exitosamente en: {ruta_audio_salida}\")"
   ]
  }
 ],
 "metadata": {
  "kernelspec": {
   "display_name": "xtts_env",
   "language": "python",
   "name": "python3"
  },
  "language_info": {
   "codemirror_mode": {
    "name": "ipython",
    "version": 3
   },
   "file_extension": ".py",
   "mimetype": "text/x-python",
   "name": "python",
   "nbconvert_exporter": "python",
   "pygments_lexer": "ipython3",
   "version": "3.10.16"
  }
 },
 "nbformat": 4,
 "nbformat_minor": 5
}
